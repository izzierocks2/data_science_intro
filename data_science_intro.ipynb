{
 "cells": [
  {
   "cell_type": "markdown",
   "id": "59e0ce3c-c8ba-41ae-bf69-18aee1a5027a",
   "metadata": {},
   "source": [
    "# Intro to Data Science with Pokemon\n",
    "***"
   ]
  },
  {
   "cell_type": "markdown",
   "id": "88f41ef0-a239-4c2b-821c-19219d842208",
   "metadata": {},
   "source": [
    "### Arrays"
   ]
  },
  {
   "cell_type": "code",
   "execution_count": 1,
   "id": "90ff72db-ade3-4fb7-be56-b80bed3780f2",
   "metadata": {},
   "outputs": [],
   "source": [
    "food = [\"Ham\", \"Cheese\", \"Bread\", \"Mayo\", \"Lettuce\", \"Tomato\"]"
   ]
  },
  {
   "cell_type": "code",
   "execution_count": 2,
   "id": "47477b9a-4c49-407f-87ae-fa6bbfe4b637",
   "metadata": {},
   "outputs": [
    {
     "name": "stdout",
     "output_type": "stream",
     "text": [
      "['Ham', 'Cheese', 'Bread', 'Mayo', 'Lettuce', 'Tomato']\n"
     ]
    }
   ],
   "source": [
    "print(food)"
   ]
  },
  {
   "cell_type": "code",
   "execution_count": 3,
   "id": "2fac9db8-58c0-411a-9825-d4d0e2ccde13",
   "metadata": {},
   "outputs": [
    {
     "name": "stdout",
     "output_type": "stream",
     "text": [
      "Bread\n"
     ]
    }
   ],
   "source": [
    "print(food[2])"
   ]
  },
  {
   "cell_type": "code",
   "execution_count": 4,
   "id": "9d940807-4886-46fe-9d91-acc235892568",
   "metadata": {},
   "outputs": [],
   "source": [
    "sliced_food_list = food[0:3]"
   ]
  },
  {
   "cell_type": "code",
   "execution_count": 5,
   "id": "fde13610-bf8b-45c1-b8e7-c9fff3e219a1",
   "metadata": {},
   "outputs": [
    {
     "name": "stdout",
     "output_type": "stream",
     "text": [
      "['Ham', 'Cheese', 'Bread']\n"
     ]
    }
   ],
   "source": [
    "print(sliced_food_list)"
   ]
  },
  {
   "cell_type": "markdown",
   "id": "38c0d095-1728-488e-b804-d735cc78cf93",
   "metadata": {},
   "source": [
    "### Import Libraries\n",
    "***"
   ]
  },
  {
   "cell_type": "code",
   "execution_count": 6,
   "id": "7d2f1db3-e47a-4b38-8452-e5910ac52895",
   "metadata": {},
   "outputs": [],
   "source": [
    "import pandas as pd\n",
    "import numpy as py\n",
    "import seaborn as sb"
   ]
  },
  {
   "cell_type": "code",
   "execution_count": 7,
   "id": "0ca9385f-f93f-4e45-9ea2-91f0ceef2d83",
   "metadata": {},
   "outputs": [
    {
     "name": "stdout",
     "output_type": "stream",
     "text": [
      "PANDAS version2.2.3\n",
      "numpy version2.1.1\n",
      "Seaborn version0.13.2\n"
     ]
    }
   ],
   "source": [
    "print(\"PANDAS version\" + pd.__version__)\n",
    "print(\"numpy version\" + py.__version__)\n",
    "print(\"Seaborn version\" + sb.__version__)"
   ]
  },
  {
   "cell_type": "markdown",
   "id": "780fca30-13e0-4f79-be41-64339625b086",
   "metadata": {},
   "source": [
    "# Loading Data\n",
    "***"
   ]
  },
  {
   "cell_type": "code",
   "execution_count": 8,
   "id": "181d339f-c950-4330-93fd-07ab6bd957ec",
   "metadata": {},
   "outputs": [],
   "source": [
    "df = pd.read_csv('pokemon.csv')"
   ]
  },
  {
   "cell_type": "markdown",
   "id": "1a381d98-eb78-4dd3-8a5b-a77e23e8a517",
   "metadata": {},
   "source": [
    "### Displaying Full Data Frames\n",
    "***"
   ]
  },
  {
   "cell_type": "code",
   "execution_count": 9,
   "id": "85f819fb-4d87-4dfa-85ae-b9d785a51af3",
   "metadata": {},
   "outputs": [],
   "source": [
    "#pd.set_option('display.max_rows', None)"
   ]
  },
  {
   "cell_type": "code",
   "execution_count": 10,
   "id": "df9e1148-bb12-484e-be78-0549ab930a81",
   "metadata": {},
   "outputs": [
    {
     "data": {
      "text/html": [
       "<div>\n",
       "<style scoped>\n",
       "    .dataframe tbody tr th:only-of-type {\n",
       "        vertical-align: middle;\n",
       "    }\n",
       "\n",
       "    .dataframe tbody tr th {\n",
       "        vertical-align: top;\n",
       "    }\n",
       "\n",
       "    .dataframe thead th {\n",
       "        text-align: right;\n",
       "    }\n",
       "</style>\n",
       "<table border=\"1\" class=\"dataframe\">\n",
       "  <thead>\n",
       "    <tr style=\"text-align: right;\">\n",
       "      <th></th>\n",
       "      <th>Per</th>\n",
       "      <th>Nat</th>\n",
       "      <th>Pokemon</th>\n",
       "      <th>HP</th>\n",
       "      <th>Atk</th>\n",
       "      <th>Def</th>\n",
       "      <th>SpA</th>\n",
       "      <th>SpD</th>\n",
       "      <th>Spe</th>\n",
       "      <th>Total</th>\n",
       "      <th>...</th>\n",
       "      <th>Catch</th>\n",
       "      <th>EXP</th>\n",
       "      <th>Evolve</th>\n",
       "      <th>Per.1</th>\n",
       "      <th>Nat.1</th>\n",
       "      <th>Joh</th>\n",
       "      <th>Hoe</th>\n",
       "      <th>Sin</th>\n",
       "      <th>Un</th>\n",
       "      <th>Pokemon.1</th>\n",
       "    </tr>\n",
       "  </thead>\n",
       "  <tbody>\n",
       "    <tr>\n",
       "      <th>0</th>\n",
       "      <td>1.0</td>\n",
       "      <td>1.0</td>\n",
       "      <td>Bulbasaur</td>\n",
       "      <td>45</td>\n",
       "      <td>49</td>\n",
       "      <td>49</td>\n",
       "      <td>65</td>\n",
       "      <td>65</td>\n",
       "      <td>45</td>\n",
       "      <td>318</td>\n",
       "      <td>...</td>\n",
       "      <td>45</td>\n",
       "      <td>1059860</td>\n",
       "      <td>NaN</td>\n",
       "      <td>1.0</td>\n",
       "      <td>1.0</td>\n",
       "      <td>226.0</td>\n",
       "      <td>NaN</td>\n",
       "      <td>NaN</td>\n",
       "      <td>NaN</td>\n",
       "      <td>Bulbasaur</td>\n",
       "    </tr>\n",
       "    <tr>\n",
       "      <th>1</th>\n",
       "      <td>2.0</td>\n",
       "      <td>2.0</td>\n",
       "      <td>Ivysaur</td>\n",
       "      <td>60</td>\n",
       "      <td>62</td>\n",
       "      <td>63</td>\n",
       "      <td>80</td>\n",
       "      <td>80</td>\n",
       "      <td>60</td>\n",
       "      <td>405</td>\n",
       "      <td>...</td>\n",
       "      <td>45</td>\n",
       "      <td>1059860</td>\n",
       "      <td>Lv. 16</td>\n",
       "      <td>2.0</td>\n",
       "      <td>2.0</td>\n",
       "      <td>227.0</td>\n",
       "      <td>NaN</td>\n",
       "      <td>NaN</td>\n",
       "      <td>NaN</td>\n",
       "      <td>Ivysaur</td>\n",
       "    </tr>\n",
       "    <tr>\n",
       "      <th>2</th>\n",
       "      <td>3.0</td>\n",
       "      <td>3.0</td>\n",
       "      <td>Venusaur</td>\n",
       "      <td>80</td>\n",
       "      <td>82</td>\n",
       "      <td>83</td>\n",
       "      <td>100</td>\n",
       "      <td>100</td>\n",
       "      <td>80</td>\n",
       "      <td>525</td>\n",
       "      <td>...</td>\n",
       "      <td>45</td>\n",
       "      <td>1059860</td>\n",
       "      <td>Lv. 32</td>\n",
       "      <td>3.0</td>\n",
       "      <td>3.0</td>\n",
       "      <td>228.0</td>\n",
       "      <td>NaN</td>\n",
       "      <td>NaN</td>\n",
       "      <td>NaN</td>\n",
       "      <td>Venusaur</td>\n",
       "    </tr>\n",
       "    <tr>\n",
       "      <th>3</th>\n",
       "      <td>4.0</td>\n",
       "      <td>4.0</td>\n",
       "      <td>Charmander</td>\n",
       "      <td>39</td>\n",
       "      <td>52</td>\n",
       "      <td>43</td>\n",
       "      <td>60</td>\n",
       "      <td>50</td>\n",
       "      <td>65</td>\n",
       "      <td>309</td>\n",
       "      <td>...</td>\n",
       "      <td>45</td>\n",
       "      <td>1059860</td>\n",
       "      <td>NaN</td>\n",
       "      <td>4.0</td>\n",
       "      <td>4.0</td>\n",
       "      <td>229.0</td>\n",
       "      <td>NaN</td>\n",
       "      <td>NaN</td>\n",
       "      <td>NaN</td>\n",
       "      <td>Charmander</td>\n",
       "    </tr>\n",
       "    <tr>\n",
       "      <th>4</th>\n",
       "      <td>5.0</td>\n",
       "      <td>5.0</td>\n",
       "      <td>Charmeleon</td>\n",
       "      <td>58</td>\n",
       "      <td>64</td>\n",
       "      <td>58</td>\n",
       "      <td>80</td>\n",
       "      <td>65</td>\n",
       "      <td>80</td>\n",
       "      <td>405</td>\n",
       "      <td>...</td>\n",
       "      <td>45</td>\n",
       "      <td>1059860</td>\n",
       "      <td>Lv. 16</td>\n",
       "      <td>5.0</td>\n",
       "      <td>5.0</td>\n",
       "      <td>230.0</td>\n",
       "      <td>NaN</td>\n",
       "      <td>NaN</td>\n",
       "      <td>NaN</td>\n",
       "      <td>Charmeleon</td>\n",
       "    </tr>\n",
       "  </tbody>\n",
       "</table>\n",
       "<p>5 rows × 35 columns</p>\n",
       "</div>"
      ],
      "text/plain": [
       "   Per  Nat     Pokemon  HP  Atk  Def  SpA  SpD  Spe  Total  ... Catch  \\\n",
       "0  1.0  1.0   Bulbasaur  45   49   49   65   65   45    318  ...    45   \n",
       "1  2.0  2.0     Ivysaur  60   62   63   80   80   60    405  ...    45   \n",
       "2  3.0  3.0    Venusaur  80   82   83  100  100   80    525  ...    45   \n",
       "3  4.0  4.0  Charmander  39   52   43   60   50   65    309  ...    45   \n",
       "4  5.0  5.0  Charmeleon  58   64   58   80   65   80    405  ...    45   \n",
       "\n",
       "       EXP  Evolve Per.1 Nat.1    Joh Hoe  Sin  Un   Pokemon.1  \n",
       "0  1059860     NaN   1.0   1.0  226.0 NaN  NaN NaN   Bulbasaur  \n",
       "1  1059860  Lv. 16   2.0   2.0  227.0 NaN  NaN NaN     Ivysaur  \n",
       "2  1059860  Lv. 32   3.0   3.0  228.0 NaN  NaN NaN    Venusaur  \n",
       "3  1059860     NaN   4.0   4.0  229.0 NaN  NaN NaN  Charmander  \n",
       "4  1059860  Lv. 16   5.0   5.0  230.0 NaN  NaN NaN  Charmeleon  \n",
       "\n",
       "[5 rows x 35 columns]"
      ]
     },
     "execution_count": 10,
     "metadata": {},
     "output_type": "execute_result"
    }
   ],
   "source": [
    "df.head()"
   ]
  },
  {
   "cell_type": "code",
   "execution_count": 11,
   "id": "9af8c811-7357-47a6-a042-6cbeaf3c7bf8",
   "metadata": {},
   "outputs": [
    {
     "data": {
      "text/html": [
       "<div>\n",
       "<style scoped>\n",
       "    .dataframe tbody tr th:only-of-type {\n",
       "        vertical-align: middle;\n",
       "    }\n",
       "\n",
       "    .dataframe tbody tr th {\n",
       "        vertical-align: top;\n",
       "    }\n",
       "\n",
       "    .dataframe thead th {\n",
       "        text-align: right;\n",
       "    }\n",
       "</style>\n",
       "<table border=\"1\" class=\"dataframe\">\n",
       "  <thead>\n",
       "    <tr style=\"text-align: right;\">\n",
       "      <th></th>\n",
       "      <th>Per</th>\n",
       "      <th>Nat</th>\n",
       "      <th>Pokemon</th>\n",
       "      <th>HP</th>\n",
       "      <th>Atk</th>\n",
       "      <th>Def</th>\n",
       "      <th>SpA</th>\n",
       "      <th>SpD</th>\n",
       "      <th>Spe</th>\n",
       "      <th>Total</th>\n",
       "      <th>...</th>\n",
       "      <th>Catch</th>\n",
       "      <th>EXP</th>\n",
       "      <th>Evolve</th>\n",
       "      <th>Per.1</th>\n",
       "      <th>Nat.1</th>\n",
       "      <th>Joh</th>\n",
       "      <th>Hoe</th>\n",
       "      <th>Sin</th>\n",
       "      <th>Un</th>\n",
       "      <th>Pokemon.1</th>\n",
       "    </tr>\n",
       "  </thead>\n",
       "  <tbody>\n",
       "    <tr>\n",
       "      <th>0</th>\n",
       "      <td>1.0</td>\n",
       "      <td>1.0</td>\n",
       "      <td>Bulbasaur</td>\n",
       "      <td>45</td>\n",
       "      <td>49</td>\n",
       "      <td>49</td>\n",
       "      <td>65</td>\n",
       "      <td>65</td>\n",
       "      <td>45</td>\n",
       "      <td>318</td>\n",
       "      <td>...</td>\n",
       "      <td>45</td>\n",
       "      <td>1059860</td>\n",
       "      <td>NaN</td>\n",
       "      <td>1.0</td>\n",
       "      <td>1.0</td>\n",
       "      <td>226.0</td>\n",
       "      <td>NaN</td>\n",
       "      <td>NaN</td>\n",
       "      <td>NaN</td>\n",
       "      <td>Bulbasaur</td>\n",
       "    </tr>\n",
       "    <tr>\n",
       "      <th>1</th>\n",
       "      <td>2.0</td>\n",
       "      <td>2.0</td>\n",
       "      <td>Ivysaur</td>\n",
       "      <td>60</td>\n",
       "      <td>62</td>\n",
       "      <td>63</td>\n",
       "      <td>80</td>\n",
       "      <td>80</td>\n",
       "      <td>60</td>\n",
       "      <td>405</td>\n",
       "      <td>...</td>\n",
       "      <td>45</td>\n",
       "      <td>1059860</td>\n",
       "      <td>Lv. 16</td>\n",
       "      <td>2.0</td>\n",
       "      <td>2.0</td>\n",
       "      <td>227.0</td>\n",
       "      <td>NaN</td>\n",
       "      <td>NaN</td>\n",
       "      <td>NaN</td>\n",
       "      <td>Ivysaur</td>\n",
       "    </tr>\n",
       "    <tr>\n",
       "      <th>2</th>\n",
       "      <td>3.0</td>\n",
       "      <td>3.0</td>\n",
       "      <td>Venusaur</td>\n",
       "      <td>80</td>\n",
       "      <td>82</td>\n",
       "      <td>83</td>\n",
       "      <td>100</td>\n",
       "      <td>100</td>\n",
       "      <td>80</td>\n",
       "      <td>525</td>\n",
       "      <td>...</td>\n",
       "      <td>45</td>\n",
       "      <td>1059860</td>\n",
       "      <td>Lv. 32</td>\n",
       "      <td>3.0</td>\n",
       "      <td>3.0</td>\n",
       "      <td>228.0</td>\n",
       "      <td>NaN</td>\n",
       "      <td>NaN</td>\n",
       "      <td>NaN</td>\n",
       "      <td>Venusaur</td>\n",
       "    </tr>\n",
       "    <tr>\n",
       "      <th>3</th>\n",
       "      <td>4.0</td>\n",
       "      <td>4.0</td>\n",
       "      <td>Charmander</td>\n",
       "      <td>39</td>\n",
       "      <td>52</td>\n",
       "      <td>43</td>\n",
       "      <td>60</td>\n",
       "      <td>50</td>\n",
       "      <td>65</td>\n",
       "      <td>309</td>\n",
       "      <td>...</td>\n",
       "      <td>45</td>\n",
       "      <td>1059860</td>\n",
       "      <td>NaN</td>\n",
       "      <td>4.0</td>\n",
       "      <td>4.0</td>\n",
       "      <td>229.0</td>\n",
       "      <td>NaN</td>\n",
       "      <td>NaN</td>\n",
       "      <td>NaN</td>\n",
       "      <td>Charmander</td>\n",
       "    </tr>\n",
       "    <tr>\n",
       "      <th>4</th>\n",
       "      <td>5.0</td>\n",
       "      <td>5.0</td>\n",
       "      <td>Charmeleon</td>\n",
       "      <td>58</td>\n",
       "      <td>64</td>\n",
       "      <td>58</td>\n",
       "      <td>80</td>\n",
       "      <td>65</td>\n",
       "      <td>80</td>\n",
       "      <td>405</td>\n",
       "      <td>...</td>\n",
       "      <td>45</td>\n",
       "      <td>1059860</td>\n",
       "      <td>Lv. 16</td>\n",
       "      <td>5.0</td>\n",
       "      <td>5.0</td>\n",
       "      <td>230.0</td>\n",
       "      <td>NaN</td>\n",
       "      <td>NaN</td>\n",
       "      <td>NaN</td>\n",
       "      <td>Charmeleon</td>\n",
       "    </tr>\n",
       "    <tr>\n",
       "      <th>...</th>\n",
       "      <td>...</td>\n",
       "      <td>...</td>\n",
       "      <td>...</td>\n",
       "      <td>...</td>\n",
       "      <td>...</td>\n",
       "      <td>...</td>\n",
       "      <td>...</td>\n",
       "      <td>...</td>\n",
       "      <td>...</td>\n",
       "      <td>...</td>\n",
       "      <td>...</td>\n",
       "      <td>...</td>\n",
       "      <td>...</td>\n",
       "      <td>...</td>\n",
       "      <td>...</td>\n",
       "      <td>...</td>\n",
       "      <td>...</td>\n",
       "      <td>...</td>\n",
       "      <td>...</td>\n",
       "      <td>...</td>\n",
       "      <td>...</td>\n",
       "    </tr>\n",
       "    <tr>\n",
       "      <th>95</th>\n",
       "      <td>105.0</td>\n",
       "      <td>96.0</td>\n",
       "      <td>Drowzee</td>\n",
       "      <td>60</td>\n",
       "      <td>48</td>\n",
       "      <td>45</td>\n",
       "      <td>43</td>\n",
       "      <td>90</td>\n",
       "      <td>42</td>\n",
       "      <td>328</td>\n",
       "      <td>...</td>\n",
       "      <td>190</td>\n",
       "      <td>1000000</td>\n",
       "      <td>NaN</td>\n",
       "      <td>105.0</td>\n",
       "      <td>96.0</td>\n",
       "      <td>87.0</td>\n",
       "      <td>NaN</td>\n",
       "      <td>NaN</td>\n",
       "      <td>NaN</td>\n",
       "      <td>Drowzee</td>\n",
       "    </tr>\n",
       "    <tr>\n",
       "      <th>96</th>\n",
       "      <td>106.0</td>\n",
       "      <td>97.0</td>\n",
       "      <td>Hypno</td>\n",
       "      <td>85</td>\n",
       "      <td>73</td>\n",
       "      <td>70</td>\n",
       "      <td>73</td>\n",
       "      <td>115</td>\n",
       "      <td>67</td>\n",
       "      <td>483</td>\n",
       "      <td>...</td>\n",
       "      <td>75</td>\n",
       "      <td>1000000</td>\n",
       "      <td>Lv. 26</td>\n",
       "      <td>106.0</td>\n",
       "      <td>97.0</td>\n",
       "      <td>88.0</td>\n",
       "      <td>NaN</td>\n",
       "      <td>NaN</td>\n",
       "      <td>NaN</td>\n",
       "      <td>Hypno</td>\n",
       "    </tr>\n",
       "    <tr>\n",
       "      <th>97</th>\n",
       "      <td>107.0</td>\n",
       "      <td>98.0</td>\n",
       "      <td>Krabby</td>\n",
       "      <td>30</td>\n",
       "      <td>105</td>\n",
       "      <td>90</td>\n",
       "      <td>25</td>\n",
       "      <td>25</td>\n",
       "      <td>50</td>\n",
       "      <td>325</td>\n",
       "      <td>...</td>\n",
       "      <td>225</td>\n",
       "      <td>1000000</td>\n",
       "      <td>NaN</td>\n",
       "      <td>107.0</td>\n",
       "      <td>98.0</td>\n",
       "      <td>164.0</td>\n",
       "      <td>NaN</td>\n",
       "      <td>NaN</td>\n",
       "      <td>NaN</td>\n",
       "      <td>Krabby</td>\n",
       "    </tr>\n",
       "    <tr>\n",
       "      <th>98</th>\n",
       "      <td>108.0</td>\n",
       "      <td>99.0</td>\n",
       "      <td>Kingler</td>\n",
       "      <td>55</td>\n",
       "      <td>130</td>\n",
       "      <td>115</td>\n",
       "      <td>50</td>\n",
       "      <td>50</td>\n",
       "      <td>75</td>\n",
       "      <td>475</td>\n",
       "      <td>...</td>\n",
       "      <td>60</td>\n",
       "      <td>1000000</td>\n",
       "      <td>Lv. 28</td>\n",
       "      <td>108.0</td>\n",
       "      <td>99.0</td>\n",
       "      <td>165.0</td>\n",
       "      <td>NaN</td>\n",
       "      <td>NaN</td>\n",
       "      <td>NaN</td>\n",
       "      <td>Kingler</td>\n",
       "    </tr>\n",
       "    <tr>\n",
       "      <th>99</th>\n",
       "      <td>109.0</td>\n",
       "      <td>100.0</td>\n",
       "      <td>Voltorb</td>\n",
       "      <td>40</td>\n",
       "      <td>30</td>\n",
       "      <td>50</td>\n",
       "      <td>55</td>\n",
       "      <td>55</td>\n",
       "      <td>100</td>\n",
       "      <td>330</td>\n",
       "      <td>...</td>\n",
       "      <td>190</td>\n",
       "      <td>1000000</td>\n",
       "      <td>NaN</td>\n",
       "      <td>109.0</td>\n",
       "      <td>100.0</td>\n",
       "      <td>120.0</td>\n",
       "      <td>84.0</td>\n",
       "      <td>NaN</td>\n",
       "      <td>NaN</td>\n",
       "      <td>Voltorb</td>\n",
       "    </tr>\n",
       "  </tbody>\n",
       "</table>\n",
       "<p>100 rows × 35 columns</p>\n",
       "</div>"
      ],
      "text/plain": [
       "      Per    Nat     Pokemon  HP  Atk  Def  SpA  SpD  Spe  Total  ... Catch  \\\n",
       "0     1.0    1.0   Bulbasaur  45   49   49   65   65   45    318  ...    45   \n",
       "1     2.0    2.0     Ivysaur  60   62   63   80   80   60    405  ...    45   \n",
       "2     3.0    3.0    Venusaur  80   82   83  100  100   80    525  ...    45   \n",
       "3     4.0    4.0  Charmander  39   52   43   60   50   65    309  ...    45   \n",
       "4     5.0    5.0  Charmeleon  58   64   58   80   65   80    405  ...    45   \n",
       "..    ...    ...         ...  ..  ...  ...  ...  ...  ...    ...  ...   ...   \n",
       "95  105.0   96.0     Drowzee  60   48   45   43   90   42    328  ...   190   \n",
       "96  106.0   97.0       Hypno  85   73   70   73  115   67    483  ...    75   \n",
       "97  107.0   98.0      Krabby  30  105   90   25   25   50    325  ...   225   \n",
       "98  108.0   99.0     Kingler  55  130  115   50   50   75    475  ...    60   \n",
       "99  109.0  100.0     Voltorb  40   30   50   55   55  100    330  ...   190   \n",
       "\n",
       "        EXP  Evolve  Per.1  Nat.1    Joh   Hoe  Sin  Un   Pokemon.1  \n",
       "0   1059860     NaN    1.0    1.0  226.0   NaN  NaN NaN   Bulbasaur  \n",
       "1   1059860  Lv. 16    2.0    2.0  227.0   NaN  NaN NaN     Ivysaur  \n",
       "2   1059860  Lv. 32    3.0    3.0  228.0   NaN  NaN NaN    Venusaur  \n",
       "3   1059860     NaN    4.0    4.0  229.0   NaN  NaN NaN  Charmander  \n",
       "4   1059860  Lv. 16    5.0    5.0  230.0   NaN  NaN NaN  Charmeleon  \n",
       "..      ...     ...    ...    ...    ...   ...  ...  ..         ...  \n",
       "95  1000000     NaN  105.0   96.0   87.0   NaN  NaN NaN     Drowzee  \n",
       "96  1000000  Lv. 26  106.0   97.0   88.0   NaN  NaN NaN       Hypno  \n",
       "97  1000000     NaN  107.0   98.0  164.0   NaN  NaN NaN      Krabby  \n",
       "98  1000000  Lv. 28  108.0   99.0  165.0   NaN  NaN NaN     Kingler  \n",
       "99  1000000     NaN  109.0  100.0  120.0  84.0  NaN NaN     Voltorb  \n",
       "\n",
       "[100 rows x 35 columns]"
      ]
     },
     "execution_count": 11,
     "metadata": {},
     "output_type": "execute_result"
    }
   ],
   "source": [
    "df.head(100)"
   ]
  },
  {
   "cell_type": "markdown",
   "id": "da65151a-627c-4faa-a50c-e049a94f02d4",
   "metadata": {},
   "source": [
    "### Accessing Columns\n",
    "***"
   ]
  },
  {
   "cell_type": "code",
   "execution_count": 13,
   "id": "47189f5f-e347-4e8a-8e42-9cb770248ff4",
   "metadata": {},
   "outputs": [
    {
     "data": {
      "text/plain": [
       "0         Bulbasaur\n",
       "1           Ivysaur\n",
       "2          Venusaur\n",
       "3        Charmander\n",
       "4        Charmeleon\n",
       "           ...     \n",
       "658          Kyurem\n",
       "659          Keldeo\n",
       "660    Meloetta (A)\n",
       "661    Meloetta (P)\n",
       "662        Genesect\n",
       "Name: Pokemon, Length: 663, dtype: object"
      ]
     },
     "execution_count": 13,
     "metadata": {},
     "output_type": "execute_result"
    }
   ],
   "source": [
    "df.Pokemon"
   ]
  },
  {
   "cell_type": "code",
   "execution_count": null,
   "id": "c087bc73-9007-45a1-9cc1-941e84a28728",
   "metadata": {},
   "outputs": [],
   "source": [
    "df.Pokemon"
   ]
  },
  {
   "cell_type": "code",
   "execution_count": null,
   "id": "ea121737-0a6c-4762-9568-9a95f5b41a09",
   "metadata": {},
   "outputs": [],
   "source": [
    "df.Pokemon[0]"
   ]
  },
  {
   "cell_type": "code",
   "execution_count": null,
   "id": "d58b5ee6-3e6f-469d-8652-8288d43675e4",
   "metadata": {},
   "outputs": [],
   "source": [
    "pokemon_column = df.Pokemon"
   ]
  },
  {
   "cell_type": "code",
   "execution_count": null,
   "id": "3c2e1710-6c26-4eac-940d-d3a4e2718c4f",
   "metadata": {},
   "outputs": [],
   "source": [
    "pokemon_column[0:3]"
   ]
  },
  {
   "cell_type": "markdown",
   "id": "0c2c4b12-8091-4cda-aab1-4ab4e0bdfab6",
   "metadata": {},
   "source": [
    "### Accessing Multiple Columns\n",
    "***"
   ]
  },
  {
   "cell_type": "markdown",
   "id": "282bb7b8-2a1f-4bb2-aba7-7068a3379ade",
   "metadata": {},
   "source": [
    "You can access multiple columns using a variable"
   ]
  },
  {
   "cell_type": "code",
   "execution_count": 16,
   "id": "e03b40ce-f998-4522-ab97-03a3a800dce8",
   "metadata": {},
   "outputs": [],
   "source": [
    "pkm_atk_hp = df[['Pokemon', 'HP', 'Atk']]"
   ]
  },
  {
   "cell_type": "code",
   "execution_count": 17,
   "id": "33ef13b9-2eb4-47e0-8043-0a0f117a71f0",
   "metadata": {},
   "outputs": [
    {
     "data": {
      "text/html": [
       "<div>\n",
       "<style scoped>\n",
       "    .dataframe tbody tr th:only-of-type {\n",
       "        vertical-align: middle;\n",
       "    }\n",
       "\n",
       "    .dataframe tbody tr th {\n",
       "        vertical-align: top;\n",
       "    }\n",
       "\n",
       "    .dataframe thead th {\n",
       "        text-align: right;\n",
       "    }\n",
       "</style>\n",
       "<table border=\"1\" class=\"dataframe\">\n",
       "  <thead>\n",
       "    <tr style=\"text-align: right;\">\n",
       "      <th></th>\n",
       "      <th>Pokemon</th>\n",
       "      <th>HP</th>\n",
       "      <th>Atk</th>\n",
       "    </tr>\n",
       "  </thead>\n",
       "  <tbody>\n",
       "    <tr>\n",
       "      <th>0</th>\n",
       "      <td>Bulbasaur</td>\n",
       "      <td>45</td>\n",
       "      <td>49</td>\n",
       "    </tr>\n",
       "    <tr>\n",
       "      <th>1</th>\n",
       "      <td>Ivysaur</td>\n",
       "      <td>60</td>\n",
       "      <td>62</td>\n",
       "    </tr>\n",
       "    <tr>\n",
       "      <th>2</th>\n",
       "      <td>Venusaur</td>\n",
       "      <td>80</td>\n",
       "      <td>82</td>\n",
       "    </tr>\n",
       "    <tr>\n",
       "      <th>3</th>\n",
       "      <td>Charmander</td>\n",
       "      <td>39</td>\n",
       "      <td>52</td>\n",
       "    </tr>\n",
       "    <tr>\n",
       "      <th>4</th>\n",
       "      <td>Charmeleon</td>\n",
       "      <td>58</td>\n",
       "      <td>64</td>\n",
       "    </tr>\n",
       "    <tr>\n",
       "      <th>5</th>\n",
       "      <td>Charizard</td>\n",
       "      <td>78</td>\n",
       "      <td>84</td>\n",
       "    </tr>\n",
       "    <tr>\n",
       "      <th>6</th>\n",
       "      <td>Squirtle</td>\n",
       "      <td>44</td>\n",
       "      <td>48</td>\n",
       "    </tr>\n",
       "    <tr>\n",
       "      <th>7</th>\n",
       "      <td>Wartortle</td>\n",
       "      <td>59</td>\n",
       "      <td>63</td>\n",
       "    </tr>\n",
       "    <tr>\n",
       "      <th>8</th>\n",
       "      <td>Blastoise</td>\n",
       "      <td>79</td>\n",
       "      <td>83</td>\n",
       "    </tr>\n",
       "    <tr>\n",
       "      <th>9</th>\n",
       "      <td>Caterpie</td>\n",
       "      <td>45</td>\n",
       "      <td>30</td>\n",
       "    </tr>\n",
       "  </tbody>\n",
       "</table>\n",
       "</div>"
      ],
      "text/plain": [
       "      Pokemon  HP  Atk\n",
       "0   Bulbasaur  45   49\n",
       "1     Ivysaur  60   62\n",
       "2    Venusaur  80   82\n",
       "3  Charmander  39   52\n",
       "4  Charmeleon  58   64\n",
       "5   Charizard  78   84\n",
       "6    Squirtle  44   48\n",
       "7   Wartortle  59   63\n",
       "8   Blastoise  79   83\n",
       "9    Caterpie  45   30"
      ]
     },
     "execution_count": 17,
     "metadata": {},
     "output_type": "execute_result"
    }
   ],
   "source": [
    "pkm_atk_hp.head(10)"
   ]
  },
  {
   "cell_type": "markdown",
   "id": "acc7c38c-23de-46a5-8aef-6b5f62c68b74",
   "metadata": {},
   "source": [
    "### Accessing Rows\n",
    "***"
   ]
  },
  {
   "cell_type": "markdown",
   "id": "1c8e7f9a-3030-40a9-8b22-601d42620e32",
   "metadata": {},
   "source": [
    "You can access rows by using `iloc[]` which allows you to specify index location for a row."
   ]
  },
  {
   "cell_type": "code",
   "execution_count": 18,
   "id": "73721a75-fabc-4152-8402-78ac96e65647",
   "metadata": {},
   "outputs": [],
   "source": [
    "bulbasaur_row = df.iloc[0]"
   ]
  },
  {
   "cell_type": "code",
   "execution_count": 19,
   "id": "6c4a928c-ef6a-49f4-8c00-076686b69b65",
   "metadata": {},
   "outputs": [
    {
     "name": "stdout",
     "output_type": "stream",
     "text": [
      "Per                       1.0\n",
      "Nat                       1.0\n",
      "Pokemon             Bulbasaur\n",
      "HP                         45\n",
      "Atk                        49\n",
      "Def                        49\n",
      "SpA                        65\n",
      "SpD                        65\n",
      "Spe                        45\n",
      "Total                     318\n",
      "Type I                  Grass\n",
      "Type II                Poison\n",
      "Tier                       NU\n",
      "Ability I            Overgrow\n",
      "Ability II                NaN\n",
      "Hidden Ability    Chlorophyll\n",
      "Mass                   6.9 kG\n",
      "LK/GK                      20\n",
      "EV Worth                1 SpA\n",
      "EXPV                       64\n",
      "Color                   Green\n",
      "Hatch                    5120\n",
      "Gender              M (87.5%)\n",
      "Egg Group I           Monster\n",
      "Egg Group II            Grass\n",
      "Catch                      45\n",
      "EXP                   1059860\n",
      "Evolve                    NaN\n",
      "Per.1                     1.0\n",
      "Nat.1                     1.0\n",
      "Joh                     226.0\n",
      "Hoe                       NaN\n",
      "Sin                       NaN\n",
      "Un                        NaN\n",
      "Pokemon.1           Bulbasaur\n",
      "Name: 0, dtype: object\n"
     ]
    }
   ],
   "source": [
    "print(bulbasaur_row)"
   ]
  },
  {
   "cell_type": "markdown",
   "id": "10bc2dca-36cd-4c49-b8b4-ec4cc9dae826",
   "metadata": {},
   "source": [
    "### Useful PANDAS Methods\n",
    "***"
   ]
  },
  {
   "cell_type": "code",
   "execution_count": 21,
   "id": "a012f636-7d6f-4794-8580-6bc67c9f6391",
   "metadata": {},
   "outputs": [
    {
     "data": {
      "text/plain": [
       "464     Abomasnow\n",
       "62           Abra\n",
       "358         Absol\n",
       "629      Accelgor\n",
       "141    Aerodactyl\n",
       "          ...    \n",
       "262     Zigzagoon\n",
       "583       Zoroark\n",
       "582         Zorua\n",
       "40          Zubat\n",
       "646      Zweilous\n",
       "Name: Pokemon, Length: 663, dtype: object"
      ]
     },
     "execution_count": 21,
     "metadata": {},
     "output_type": "execute_result"
    }
   ],
   "source": [
    "df.Pokemon.sort_values() #sorts values of the pokemon column"
   ]
  },
  {
   "cell_type": "code",
   "execution_count": 23,
   "id": "3715afbc-d884-4c83-948b-4bca20fcdc58",
   "metadata": {},
   "outputs": [
    {
     "data": {
      "text/plain": [
       "8     Blastoise\n",
       "0     Bulbasaur\n",
       "9      Caterpie\n",
       "5     Charizard\n",
       "3    Charmander\n",
       "4    Charmeleon\n",
       "1       Ivysaur\n",
       "6      Squirtle\n",
       "2      Venusaur\n",
       "7     Wartortle\n",
       "Name: Pokemon, dtype: object"
      ]
     },
     "execution_count": 23,
     "metadata": {},
     "output_type": "execute_result"
    }
   ],
   "source": [
    "df.Pokemon[0:10].sort_values() #sorts index 0 to 10 alphabetically"
   ]
  },
  {
   "cell_type": "code",
   "execution_count": 24,
   "id": "60f2f820-10ef-406a-b1b0-72fd896fab06",
   "metadata": {},
   "outputs": [
    {
     "data": {
      "text/plain": [
       "np.float64(68.34087481146305)"
      ]
     },
     "execution_count": 24,
     "metadata": {},
     "output_type": "execute_result"
    }
   ],
   "source": [
    "df.HP.mean() #Gets mean HP value"
   ]
  },
  {
   "cell_type": "code",
   "execution_count": 25,
   "id": "c4fd2ab6-f0b4-4eb6-ad33-0c7f28699c8b",
   "metadata": {},
   "outputs": [
    {
     "data": {
      "text/plain": [
       "count    663.000000\n",
       "mean      68.962293\n",
       "std       29.246841\n",
       "min       10.000000\n",
       "25%       45.000000\n",
       "50%       65.000000\n",
       "75%       90.000000\n",
       "max      180.000000\n",
       "Name: SpA, dtype: float64"
      ]
     },
     "execution_count": 25,
     "metadata": {},
     "output_type": "execute_result"
    }
   ],
   "source": [
    "df.SpA.describe()"
   ]
  },
  {
   "cell_type": "markdown",
   "id": "2fe8c208-2143-4a30-afe5-f25d1c40b36d",
   "metadata": {},
   "source": [
    "### Filtering Data\n",
    "***"
   ]
  },
  {
   "cell_type": "code",
   "execution_count": 28,
   "id": "c2933db8-2f0d-45d5-a52a-c30b62129b5e",
   "metadata": {},
   "outputs": [],
   "source": [
    "chu_pokemon = df[df['Pokemon'].str.contains('chu')] #Looks for chu"
   ]
  },
  {
   "cell_type": "code",
   "execution_count": 27,
   "id": "36601a15-a8ef-4e78-948e-e1e60979ebaa",
   "metadata": {},
   "outputs": [
    {
     "name": "stdout",
     "output_type": "stream",
     "text": [
      "       Per    Nat   Pokemon  HP  Atk  Def  SpA  SpD  Spe  Total  ... Catch  \\\n",
      "24    26.0   25.0   Pikachu  35   55   30   50   40   90    300  ...   190   \n",
      "25    27.0   26.0    Raichu  60   90   55   90   80  100    475  ...    75   \n",
      "171   25.0  172.0     Pichu  20   40   15   35   35   60    205  ...   190   \n",
      "237  143.0  238.0  Smoochum  45   30   15   85   65   65    305  ...    45   \n",
      "\n",
      "         EXP        Evolve  Per.1  Nat.1    Joh    Hoe    Sin  Un  Pokemon.1  \n",
      "24   1000000    Friendship   26.0   25.0   22.0  156.0  104.0 NaN    Pikachu  \n",
      "25   1000000  Thunderstone   27.0   26.0   23.0  157.0  105.0 NaN     Raichu  \n",
      "171  1000000           NaN   25.0  172.0   21.0  155.0  103.0 NaN      Pichu  \n",
      "237  1000000           NaN  143.0  238.0  152.0    NaN    NaN NaN   Smoochum  \n",
      "\n",
      "[4 rows x 35 columns]\n"
     ]
    }
   ],
   "source": [
    "print(chu_pokemon)"
   ]
  },
  {
   "cell_type": "code",
   "execution_count": 29,
   "id": "7d2d530a-18f8-4401-b7d4-2f9b1634cef6",
   "metadata": {},
   "outputs": [],
   "source": [
    "spec_atk_70 = df[df['SpA']== 70]"
   ]
  },
  {
   "cell_type": "code",
   "execution_count": 30,
   "id": "a67ede0a-8542-4614-ad70-435ffd8e7c57",
   "metadata": {},
   "outputs": [
    {
     "name": "stdout",
     "output_type": "stream",
     "text": [
      "       Per    Nat     Pokemon   HP  Atk  Def  SpA  SpD  Spe  Total  ... Catch  \\\n",
      "17    18.0   18.0     Pidgeot   83   80   75   70   70   91    469  ...    45   \n",
      "57    63.0   58.0   Growlithe   55   70   45   70   50   60    350  ...   190   \n",
      "61    67.0   62.0   Poliwrath   90   85   95   70   90   70    500  ...    45   \n",
      "68    75.0   69.0  Bellsprout   50   75   35   70   30   40    300  ...   255   \n",
      "86    95.0   87.0     Dewgong   90   70   80   70   95   70    475  ...    75   \n",
      "115  132.0  116.0      Horsea   30   40   70   70   25   60    295  ...   225   \n",
      "119  137.0  120.0      Staryu   30   45   55   70   55   85    340  ...   225   \n",
      "147  179.0  148.0   Dragonair   61   84   65   70   70   70    420  ...    45   \n",
      "168   46.0  169.0      Crobat   85   90   80   70   80  130    535  ...    90   \n",
      "176  205.0  177.0        Natu   40   50   45   70   45   70    320  ...   190   \n",
      "217  248.0  218.0      Slugma   40   40   40   70   40   20    250  ...   190   \n",
      "239  148.0  240.0       Magby   45   75   37   70   55   83    365  ...    45   \n",
      "254  279.0  255.0     Torchic   45   60   40   70   50   45    310  ...    45   \n",
      "319  347.0  320.0     Wailmer  130   70   35   70   35   60    400  ...   125   \n",
      "324  352.0  325.0      Spoink   60   25   35   70   80   60    330  ...   255   \n",
      "333  361.0  334.0     Altaria   75   70   90   70  105   80    490  ...    45   \n",
      "343  371.0  344.0     Claydol   60   70  105   70  120   75    500  ...    90   \n",
      "347  375.0  348.0     Armaldo   75  125  100   70   80   45    495  ...    45   \n",
      "350  378.0  351.0    Castform   70   70   70   70   70   70    420  ...    45   \n",
      "387  415.2  386.2  Deoxys (D)   50   70  160   70  160   90    600  ...     3   \n",
      "443  139.0  439.0    Mime Jr.   20   25   45   70   90   60    310  ...   145   \n",
      "477  252.0  473.0   Mamoswine  110  130   80   70   60   80    530  ...    50   \n",
      "510  499.0  499.0     Pignite   90   93   55   70   55   55    418  ...    45   \n",
      "553  542.0  542.0    Leavanny   75  103   80   70   70   92    490  ...    45   \n",
      "559  548.0  548.0     Petilil   45   35   50   70   50   30    280  ...   190   \n",
      "612  600.0  600.0       Klang   60   80   95   70   85   50    440  ...    60   \n",
      "613  601.0  601.0   Klinklang   60  100  115   70   85   90    520  ...    30   \n",
      "626  614.0  614.0     Beartic   95  110   80   70   80   50    485  ...    60   \n",
      "\n",
      "         EXP                 Evolve  Per.1  Nat.1    Joh    Hoe    Sin     Un  \\\n",
      "17   1059860                 Lv. 36   18.0   18.0   12.0    NaN    NaN    NaN   \n",
      "57   1250000                    NaN   63.0   58.0  127.0    NaN    NaN    NaN   \n",
      "61   1059860            Water Stone   67.0   62.0   74.0    NaN    NaN    NaN   \n",
      "68   1059860                    NaN   75.0   69.0   64.0    NaN    NaN    NaN   \n",
      "86   1000000                 Lv. 34   95.0   87.0  177.0    NaN    NaN    NaN   \n",
      "115  1000000                    NaN  132.0  116.0  186.0  184.0    NaN    NaN   \n",
      "119  1250000                    NaN  137.0  120.0  167.0  143.0    NaN    NaN   \n",
      "147  1250000                 Lv. 30  179.0  148.0  242.0    NaN    NaN    NaN   \n",
      "168  1000000             Friendship   46.0  169.0   39.0   65.0   30.0    NaN   \n",
      "176  1000000                    NaN  205.0  177.0  159.0  162.0    NaN    NaN   \n",
      "217  1000000                    NaN  248.0  218.0  211.0  103.0    NaN    NaN   \n",
      "239  1000000                    NaN  148.0  240.0  150.0    NaN  200.0    NaN   \n",
      "254  1059860                    NaN  279.0  255.0    NaN    4.0    NaN    NaN   \n",
      "319  1640000                    NaN  347.0  320.0    NaN   99.0    NaN    NaN   \n",
      "324   800000                    NaN  352.0  325.0    NaN  110.0    NaN    NaN   \n",
      "333   600000                 Lv. 35  361.0  334.0    NaN  122.0  172.0    NaN   \n",
      "343  1000000                 Lv. 36  371.0  344.0    NaN  132.0    NaN    NaN   \n",
      "347   600000                 Lv. 40  375.0  348.0    NaN  136.0    NaN    NaN   \n",
      "350  1000000                      N  378.0  351.0    NaN  142.0    NaN    NaN   \n",
      "387  1250000                      N  415.2  386.2    NaN  202.2    NaN    NaN   \n",
      "443  1000000                    NaN  139.0  439.0    NaN    NaN   94.0    NaN   \n",
      "477  1250000  Level w/ Ancientpower  252.0  473.0    NaN    NaN  205.0    NaN   \n",
      "510  1059860                 Lv. 17  499.0  499.0    NaN    NaN    NaN    5.0   \n",
      "553  1059860             Friendship  542.0  542.0    NaN    NaN    NaN   48.0   \n",
      "559  1000000                    NaN  548.0  548.0    NaN    NaN    NaN   54.0   \n",
      "612  1059860                 Lv. 38  600.0  600.0    NaN    NaN    NaN  106.0   \n",
      "613  1059860                 Lv. 49  601.0  601.0    NaN    NaN    NaN  107.0   \n",
      "626  1000000                 Lv. 37  614.0  614.0    NaN    NaN    NaN  120.0   \n",
      "\n",
      "      Pokemon.1  \n",
      "17      Pidgeot  \n",
      "57    Growlithe  \n",
      "61    Poliwrath  \n",
      "68   Bellsprout  \n",
      "86      Dewgong  \n",
      "115      Horsea  \n",
      "119      Staryu  \n",
      "147   Dragonair  \n",
      "168      Crobat  \n",
      "176        Natu  \n",
      "217      Slugma  \n",
      "239       Magby  \n",
      "254     Torchic  \n",
      "319     Wailmer  \n",
      "324      Spoink  \n",
      "333     Altaria  \n",
      "343     Claydol  \n",
      "347     Armaldo  \n",
      "350    Castform  \n",
      "387  Deoxys (D)  \n",
      "443    Mime Jr.  \n",
      "477   Mamoswine  \n",
      "510     Pignite  \n",
      "553    Leavanny  \n",
      "559     Petilil  \n",
      "612       Klang  \n",
      "613   Klinklang  \n",
      "626     Beartic  \n",
      "\n",
      "[28 rows x 35 columns]\n"
     ]
    }
   ],
   "source": [
    "print(spec_atk_70)"
   ]
  },
  {
   "cell_type": "code",
   "execution_count": null,
   "id": "64d2bd84-6eaf-427f-a55c-98bea46f2ae0",
   "metadata": {},
   "outputs": [],
   "source": []
  }
 ],
 "metadata": {
  "kernelspec": {
   "display_name": "Python 3 (ipykernel)",
   "language": "python",
   "name": "python3"
  },
  "language_info": {
   "codemirror_mode": {
    "name": "ipython",
    "version": 3
   },
   "file_extension": ".py",
   "mimetype": "text/x-python",
   "name": "python",
   "nbconvert_exporter": "python",
   "pygments_lexer": "ipython3",
   "version": "3.12.1"
  }
 },
 "nbformat": 4,
 "nbformat_minor": 5
}
